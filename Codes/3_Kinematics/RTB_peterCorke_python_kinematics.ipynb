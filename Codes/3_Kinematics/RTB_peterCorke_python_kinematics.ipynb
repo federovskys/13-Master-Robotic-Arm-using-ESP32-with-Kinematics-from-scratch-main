{
  "nbformat": 4,
  "nbformat_minor": 0,
  "metadata": {
    "kernelspec": {
      "display_name": "Python 3",
      "language": "python",
      "name": "python3"
    },
    "language_info": {
      "codemirror_mode": {
        "name": "ipython",
        "version": 3
      },
      "file_extension": ".py",
      "mimetype": "text/x-python",
      "name": "python",
      "nbconvert_exporter": "python",
      "pygments_lexer": "ipython3",
      "version": "3.8.5"
    },
    "varInspector": {
      "cols": {
        "lenName": 16,
        "lenType": 16,
        "lenVar": 40
      },
      "kernels_config": {
        "python": {
          "delete_cmd_postfix": "",
          "delete_cmd_prefix": "del ",
          "library": "var_list.py",
          "varRefreshCmd": "print(var_dic_list())"
        },
        "r": {
          "delete_cmd_postfix": ") ",
          "delete_cmd_prefix": "rm(",
          "library": "var_list.r",
          "varRefreshCmd": "cat(var_dic_list()) "
        }
      },
      "types_to_exclude": [
        "module",
        "function",
        "builtin_function_or_method",
        "instance",
        "_Feature"
      ],
      "window_display": false
    },
    "colab": {
      "name": "RTB_peterCorke_python_kinematics.ipynb",
      "provenance": [],
      "collapsed_sections": []
    }
  },
  "cells": [
    {
      "cell_type": "markdown",
      "metadata": {
        "id": "Vwn2KeYWTrNw"
      },
      "source": [
        "# Utilizing RoboticsToolBox by Peter Corke Library \n",
        "- Do all kinematics calculations for Custom  robotic arm"
      ]
    },
    {
      "cell_type": "markdown",
      "metadata": {
        "id": "1lq72NfZTXm9"
      },
      "source": [
        "## Setting up the library for Python"
      ]
    },
    {
      "cell_type": "code",
      "metadata": {
        "id": "UapxlxANVDGC"
      },
      "source": [
        "!git clone https://github.com/petercorke/robotics-toolbox-python.git # A Great Man - > Peter Corke\n",
        "# below step is important otherwise library will not be accessed properly\n",
        "%cd /content/robotics-toolbox-python \n",
        "!pip3 install -e ."
      ],
      "execution_count": null,
      "outputs": []
    },
    {
      "cell_type": "markdown",
      "metadata": {
        "id": "rhJRulJsTguA"
      },
      "source": [
        "## Running a Pre-defined Robotic Arm Model PUMA-560"
      ]
    },
    {
      "cell_type": "code",
      "metadata": {
        "id": "s5EwOTExWjTf"
      },
      "source": [
        "import roboticstoolbox as rtb\n",
        "p560 = rtb.models.DH.Puma560()\n",
        "print(p560)"
      ],
      "execution_count": null,
      "outputs": []
    },
    {
      "cell_type": "code",
      "metadata": {
        "id": "WY_NvV_VBnl-"
      },
      "source": [
        "p560.fkine([0, 0, 0, 0, 0, 0])    # solving the forward kinematic on given angles. "
      ],
      "execution_count": null,
      "outputs": []
    },
    {
      "cell_type": "code",
      "metadata": {
        "id": "Ifasq-9BUkC8"
      },
      "source": [
        "p560.fkine([40, 50, 0,90, 0, 10])    # solving the forward kinematic on given angles. "
      ],
      "execution_count": null,
      "outputs": []
    },
    {
      "cell_type": "markdown",
      "metadata": {
        "id": "9fZywEoFU7AH"
      },
      "source": [
        "### Making things Symbolic -> Real Deal"
      ]
    },
    {
      "cell_type": "code",
      "metadata": {
        "id": "a63188ZmBy5I"
      },
      "source": [
        "import numpy as np\n",
        "import math\n",
        "from spatialmath.base import *\n",
        "from spatialmath import SE3\n",
        "import spatialmath.base.symbolic as sym\n",
        "\n",
        "p560_symblic = rtb.models.DH.Puma560(symbolic=True)\n",
        "print(p560_symblic)\n",
        "\n"
      ],
      "execution_count": null,
      "outputs": []
    },
    {
      "cell_type": "code",
      "metadata": {
        "id": "faYOk_t0V70n"
      },
      "source": [
        "p560.fkine([40, 50, 0,90, 0, 10])  # just a reminder"
      ],
      "execution_count": null,
      "outputs": []
    },
    {
      "cell_type": "code",
      "metadata": {
        "id": "uO27srCgCtFf"
      },
      "source": [
        "q = sym.symbol('q_:6') # Creating Symbolic variables for angles -> to obtain equations \n",
        "q"
      ],
      "execution_count": null,
      "outputs": []
    },
    {
      "cell_type": "code",
      "metadata": {
        "id": "Axwf167TDXKq"
      },
      "source": [
        "T = p560_symblic.fkine(q)\n",
        "T"
      ],
      "execution_count": null,
      "outputs": []
    },
    {
      "cell_type": "code",
      "metadata": {
        "id": "IxXmQNwZDbne"
      },
      "source": [
        "from sympy import Matrix\n",
        "Ts = T.simplify()\n",
        "M = Matrix(Ts.A)\n",
        "M"
      ],
      "execution_count": null,
      "outputs": []
    },
    {
      "cell_type": "code",
      "metadata": {
        "id": "cy7oWwhDDtqs"
      },
      "source": [
        "M[:3,3] # which is the translation part"
      ],
      "execution_count": null,
      "outputs": []
    },
    {
      "cell_type": "markdown",
      "metadata": {
        "id": "f0WAEnp9hHjS"
      },
      "source": [
        "------------------------------------------------------------------------------------"
      ]
    },
    {
      "cell_type": "markdown",
      "metadata": {
        "id": "VdhHFXEtGakV"
      },
      "source": [
        "##Custom Robotic Arm Kinematics Solution\n",
        " -  (KAKA ROBOT) "
      ]
    },
    {
      "cell_type": "code",
      "metadata": {
        "id": "K4BVCSCkDv0W"
      },
      "source": [
        "## Creating Robotic arm through defining links and Serial Linkage\n",
        "Link_1=rtb.DHLink(19.1, math.pi/2, 0, 0)\n",
        "Link_2=rtb.DHLink(0,    0,   0, 15.69)\n",
        "Link_3=rtb.DHLink(0,    0,   0, 11.7)\n",
        "Kaka_robot= rtb.DHRobot([Link_1 ,Link_2,Link_3])\n",
        "Kaka_robot"
      ],
      "execution_count": null,
      "outputs": []
    },
    {
      "cell_type": "code",
      "metadata": {
        "id": "Ezd9ruOmHDRD"
      },
      "source": [
        "T=Kaka_robot.fkine([40,30,10])\n",
        "T"
      ],
      "execution_count": null,
      "outputs": []
    },
    {
      "cell_type": "markdown",
      "metadata": {
        "id": "EX0J5FRWZwlX"
      },
      "source": [
        "### Making things symbolic for implementation"
      ]
    },
    {
      "cell_type": "code",
      "metadata": {
        "id": "GSngjNT4dlMY"
      },
      "source": [
        "L = sym.symbol('l_1:4') # Symbolics for links\n",
        "print(\"symblic Links : \",L)\n",
        "Link_1=rtb.DHLink(L[0], math.pi/2, 0, 0) \n",
        "Link_2=rtb.DHLink(0,    0,   0, L[1])\n",
        "Link_3=rtb.DHLink(0,    0,   0, L[2])\n",
        "Kaka_robot_symbolic= rtb.DHRobot([Link_1 ,Link_2,Link_3])"
      ],
      "execution_count": null,
      "outputs": []
    },
    {
      "cell_type": "code",
      "metadata": {
        "id": "y8kZGulvGe7T"
      },
      "source": [
        "Q= sym.symbol('q1:4')   # Symbolics for rotations angles\n",
        "print(\"symblic Angles : \",Q)"
      ],
      "execution_count": null,
      "outputs": []
    },
    {
      "cell_type": "code",
      "metadata": {
        "id": "2ZWcaT9PdFuS"
      },
      "source": [
        "T_symbolic=Kaka_robot_symbolic.fkine(Q)\n",
        "T_symbolic"
      ],
      "execution_count": null,
      "outputs": []
    },
    {
      "cell_type": "code",
      "metadata": {
        "id": "ShrDTAaVQHxp"
      },
      "source": [
        "Ts_symbolic = T_symbolic.simplify()\n",
        "M = Matrix(Ts_symbolic.A)\n",
        "M"
      ],
      "execution_count": null,
      "outputs": []
    },
    {
      "cell_type": "code",
      "metadata": {
        "id": "XQT6fnrWQUro"
      },
      "source": [
        "T=Kaka_robot.fkine([40,30,10])  # NON symbolic\n",
        "T"
      ],
      "execution_count": null,
      "outputs": []
    },
    {
      "cell_type": "code",
      "metadata": {
        "id": "4FyXFk-Fenqj"
      },
      "source": [
        "M[:3,3] # extracting translation part"
      ],
      "execution_count": null,
      "outputs": []
    },
    {
      "cell_type": "markdown",
      "metadata": {
        "id": "5zK9wwFXfVJe"
      },
      "source": [
        "**OUR FINAL RESULTS TO IMPLEMENT IN CODE**\n",
        "\n",
        "- X = l_2*cos(q1)*cos(q2) + l_3*cos(q1)*cos(q2 + q3)\n",
        "- Y = l_2*sin(q1)*cos(q2) + l_3*sin(q1)*cos(q2 + q3)\n",
        "- Z = l_1 + l_2*sin(q2)   + l_3*sin(q2 + q3)"
      ]
    }
  ]
}